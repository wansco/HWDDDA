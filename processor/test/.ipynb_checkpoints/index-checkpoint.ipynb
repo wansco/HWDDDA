{
 "cells": [
  {
   "cell_type": "markdown",
   "metadata": {},
   "source": [
    "# Parser for HWDDDA Project"
   ]
  },
  {
   "cell_type": "code",
   "execution_count": null,
   "metadata": {},
   "outputs": [],
   "source": [
    "#! pip install pandas\n",
    "#! pip install matplotlib\n",
    "#! pip install vectormath\n",
    "#! pip install pyvista"
   ]
  },
  {
   "cell_type": "code",
   "execution_count": null,
   "metadata": {
    "scrolled": true
   },
   "outputs": [],
   "source": [
    "import pandas as pd\n",
    "import numpy as np\n",
    "import matplotlib.pyplot as plt\n",
    "from datetime import datetime\n",
    "import vectormath as vmath\n",
    "import pyvista as pv"
   ]
  },
  {
   "cell_type": "markdown",
   "metadata": {},
   "source": [
    "Read the datafile and stick it in a data frame.\n",
    "\n",
    "The data file starts with a calibration block (not currently parsing that calibration, just skipping it). TODO: need to apply proper calibration to the data\n",
    "\n",
    "Since we have a bunch of data files, wrap this parsing into a function so we can cleanly call it once for each file."
   ]
  },
  {
   "cell_type": "code",
   "execution_count": null,
   "metadata": {},
   "outputs": [],
   "source": [
    "def LoadData(fname, startrow=0, stoprow=999999999999):\n",
    "    filename = \"../../data/preliminary/\" + fname\n",
    "\n",
    "    #TODO: need to use readable column names to avoid confusion\n",
    "    headers = [\"dt\", \"Sch\", \"Ch0\", \"Ch1\", \"Ch2\", \"Ch3\", \"Ch4\", \"Ch5\", \"Ch6\", \"Ch7\", \"Ch8\"]\n",
    "\n",
    "    df = pd.read_csv(filename, \n",
    "                     header=None, names=headers, \n",
    "                     skiprows=12+startrow,  #skip the calibration block for now\n",
    "                     nrows=stoprow-startrow,\n",
    "                     low_memory=False)\n",
    "    df[\"cnt\"] = np.arange(len(df)) #add a counter column for easy plotting\n",
    "\n",
    "    print(\"# of rows:\", len(df))\n",
    "    #print(df)\n",
    "    #print(df.head(5))\n",
    "    \n",
    "    return(df)"
   ]
  },
  {
   "cell_type": "markdown",
   "metadata": {},
   "source": [
    "Only run one of these, or just make sure the last one is the one you want to use.\n",
    "\n",
    "Try and get the start/stop row index to cover legitimate data (i.e. exclude bad startup and shutdown data if present)."
   ]
  },
  {
   "cell_type": "code",
   "execution_count": null,
   "metadata": {},
   "outputs": [],
   "source": [
    "df = LoadData(\"file_43_calibrated_20180516102829.csv\") #this one has a bunch of empty values"
   ]
  },
  {
   "cell_type": "code",
   "execution_count": null,
   "metadata": {},
   "outputs": [],
   "source": [
    "df = LoadData(\"File_18_1002_Calibrated_20190510135452.csv\", 0, 100)"
   ]
  },
  {
   "cell_type": "code",
   "execution_count": null,
   "metadata": {},
   "outputs": [],
   "source": [
    "df.describe() #get some stats"
   ]
  },
  {
   "cell_type": "markdown",
   "metadata": {},
   "source": [
    "Now we can plot the data. matplotlib is a bit more interactive when run locally, but this should be good enough for now.\n",
    "Just plot the individual components to get an overview."
   ]
  },
  {
   "cell_type": "code",
   "execution_count": null,
   "metadata": {},
   "outputs": [],
   "source": [
    "df.plot(kind='scatter',x='cnt',y='Ch3',color='red')\n",
    "plt.show()"
   ]
  },
  {
   "cell_type": "markdown",
   "metadata": {},
   "source": [
    "Which channel is this?"
   ]
  },
  {
   "cell_type": "code",
   "execution_count": null,
   "metadata": {},
   "outputs": [],
   "source": [
    "df.plot(kind='scatter',x='cnt',y='Ch4',color='blue')\n",
    "plt.show()"
   ]
  },
  {
   "cell_type": "markdown",
   "metadata": {},
   "source": [
    "I think this is Z"
   ]
  },
  {
   "cell_type": "code",
   "execution_count": null,
   "metadata": {},
   "outputs": [],
   "source": [
    "df.plot(kind='scatter',x='cnt',y='Ch5',color='green')\n",
    "plt.show()"
   ]
  },
  {
   "cell_type": "markdown",
   "metadata": {},
   "source": [
    "Lets get the gravity vector now. This should also be the direction of tool travel. Ideally, the samples that are not part of normal motion should have been eliminated above, and we should have enough samples to wash out partial strokes at the beginning/end."
   ]
  },
  {
   "cell_type": "code",
   "execution_count": null,
   "metadata": {},
   "outputs": [],
   "source": [
    "gravityv = vmath.Vector3(df[\"Ch3\"].mean(), df[\"Ch4\"].mean(), df[\"Ch5\"].mean())\n",
    "print(\"Gravity vector:\", gravityv)\n",
    "\n",
    "#not sure if these next few lines are needed....\n",
    "\n",
    "#I suck at python, but this should be an array of x,y,z vectors\n",
    "arrxyz = np.reshape((np.array(df[\"Ch3\"]), np.array(df[\"Ch4\"]), np.array(df[\"Ch5\"])), (3, -1)).transpose()\n",
    "\n",
    "\n",
    "#load them into a Vector3Array to operate on\n",
    "v_array = vmath.Vector3Array(arrxyz)"
   ]
  },
  {
   "cell_type": "markdown",
   "metadata": {},
   "source": [
    "Give a 3D view of that gravity vector... should roughly indicate the orientation of the tool."
   ]
  },
  {
   "cell_type": "code",
   "execution_count": null,
   "metadata": {},
   "outputs": [],
   "source": [
    "pg = pv.Plotter()\n",
    "pg.set_background(\"white\")\n",
    "#pg = pv.BackgroundPlotter()\n",
    "veczero = np.array([0., 0., 0.])\n",
    "vecgrav = np.array([df[\"Ch3\"].mean(), df[\"Ch4\"].mean(), df[\"Ch5\"].mean()])\n",
    "gravline = np.stack((veczero, vecgrav))\n",
    "_ = pg.add_lines(gravline, color=\"white\") #notebook doesnt seem to respect color\n",
    "_ = pg.add_axes(interactive=True, color=\"white\") #notebook doesnt render helper\n",
    "_ = pg.show_bounds(grid='front', location='outer', all_edges=True, color=\"red\")\n",
    "\n",
    "_ = pg.show_grid() #not working?\n"
   ]
  },
  {
   "cell_type": "code",
   "execution_count": null,
   "metadata": {
    "scrolled": true
   },
   "outputs": [],
   "source": [
    "pg.show()"
   ]
  },
  {
   "cell_type": "markdown",
   "metadata": {},
   "source": [
    "## TODO: should apply calibration to the raw sample data"
   ]
  },
  {
   "cell_type": "code",
   "execution_count": null,
   "metadata": {
    "scrolled": true
   },
   "outputs": [],
   "source": [
    "p = pv.Plotter()\n",
    "verts = np.column_stack((df[\"Ch3\"], df[\"Ch4\"], df[\"Ch5\"]))\n",
    "_ = p.add_points(verts, color=\"red\")\n",
    "_ = p.add_axes()"
   ]
  },
  {
   "cell_type": "code",
   "execution_count": null,
   "metadata": {},
   "outputs": [],
   "source": [
    "p.show()"
   ]
  },
  {
   "cell_type": "code",
   "execution_count": null,
   "metadata": {},
   "outputs": [],
   "source": [
    "print(\"test\")"
   ]
  },
  {
   "cell_type": "code",
   "execution_count": null,
   "metadata": {},
   "outputs": [],
   "source": []
  }
 ],
 "metadata": {
  "kernelspec": {
   "display_name": "Python 3",
   "language": "python",
   "name": "python3"
  },
  "language_info": {
   "codemirror_mode": {
    "name": "ipython",
    "version": 3
   },
   "file_extension": ".py",
   "mimetype": "text/x-python",
   "name": "python",
   "nbconvert_exporter": "python",
   "pygments_lexer": "ipython3",
   "version": "3.7.3"
  }
 },
 "nbformat": 4,
 "nbformat_minor": 2
}
